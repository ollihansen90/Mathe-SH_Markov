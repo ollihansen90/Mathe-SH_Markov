{
  "nbformat": 4,
  "nbformat_minor": 0,
  "metadata": {
    "colab": {
      "provenance": [],
      "authorship_tag": "ABX9TyNXmJarbPpH90nk/951QYm9",
      "include_colab_link": true
    },
    "kernelspec": {
      "name": "python3",
      "display_name": "Python 3"
    },
    "language_info": {
      "name": "python"
    }
  },
  "cells": [
    {
      "cell_type": "markdown",
      "metadata": {
        "id": "view-in-github",
        "colab_type": "text"
      },
      "source": [
        "<a href=\"https://colab.research.google.com/github/ollihansen90/Mathe-SH_Markov/blob/main/Markov_Apfel.ipynb\" target=\"_parent\"><img src=\"https://colab.research.google.com/assets/colab-badge.svg\" alt=\"Open In Colab\"/></a>"
      ]
    },
    {
      "cell_type": "code",
      "execution_count": null,
      "metadata": {
        "id": "l7SHub7qhGDW"
      },
      "outputs": [],
      "source": [
        "import requests\n",
        "import json\n",
        "import random\n",
        "import sys\n",
        "\n",
        "r = requests.get(\"https://raw.githubusercontent.com/ollihansen90/apfelsorten/main/apfelsorten.txt\")\n",
        "data = r.text.split(\"\\n\")#[:10]\n",
        "print(len(data))\n",
        "\n",
        "def dict_add(dictionary, key, value):\n",
        "    if key in dictionary.keys():\n",
        "        if value in dictionary[key].keys():\n",
        "            dictionary[key][value] += 1\n",
        "        else:\n",
        "            dictionary[key][value] = 1\n",
        "    else:\n",
        "        dictionary[key] = {\">\": 0}\n",
        "        dictionary[key][value] = 1\n",
        "    return dictionary\n",
        "\n",
        "def generate_markovdict(data, back=3):\n",
        "    markov_dict = dict()\n",
        "    for sorte in data:\n",
        "        if len(sorte)<max([4,back]):\n",
        "            continue\n",
        "        for i in range(back):\n",
        "            markov_dict = dict_add(markov_dict, (back-i)*\"<\"+sorte[:i], sorte[i])\n",
        "        for i in range(back-1, len(sorte)-1):\n",
        "            markov_dict = dict_add(markov_dict, sorte[i-back+1:i+1], sorte[i+1])\n",
        "        markov_dict = dict_add(markov_dict, sorte[-back:], \">\")\n",
        "    return markov_dict\n",
        "\n",
        "class Markov_Apfel():\n",
        "    def __init__(self, dictionary):\n",
        "        self.dictionary = dictionary\n",
        "        self.back = len(list(dictionary.keys())[0])\n",
        "\n",
        "    def __call__(self):\n",
        "        key = self.back*\"<\"\n",
        "        name = self.back*\"<\"\n",
        "        while key!=\">\":\n",
        "            next_keys = self.dictionary[name[-self.back:]]\n",
        "            valliste = []\n",
        "            keyliste = []\n",
        "            for dictkey in next_keys.keys():\n",
        "                valliste.append(next_keys[dictkey])\n",
        "                keyliste.append(dictkey)\n",
        "            summe = 0\n",
        "            cumsum = []\n",
        "            for eintrag in valliste:\n",
        "                summe += eintrag\n",
        "                cumsum.append(summe)\n",
        "            n = int(random.random()*summe)\n",
        "            i = 0\n",
        "            while n>cumsum[i]:\n",
        "                i += 1\n",
        "            key = keyliste[i]\n",
        "            name += key\n",
        "            #print(key)\n",
        "        return name.replace(\">\", \"\").replace(self.back*\"<\", \"\")"
      ]
    },
    {
      "cell_type": "code",
      "source": [
        "######################################################\n",
        "# Hier kann die Anzahl der Vorgänger bestimmt werden #\n",
        "n_buchstaben = 1\n",
        "######################################################\n",
        "\n",
        "markov_dict = generate_markovdict(data, back=n_buchstaben)\n",
        "markov_apfel = Markov_Apfel(markov_dict)\n",
        "\n",
        "print(f\"Die Modellgröße beträgt {round(sys.getsizeof(markov_dict)/2**10, ndigits=2)} Kilobyte.\")"
      ],
      "metadata": {
        "colab": {
          "base_uri": "https://localhost:8080/"
        },
        "id": "-aSoQFgTjwyi",
        "outputId": "412acd27-c31b-4e45-a0ea-849c581ec495"
      },
      "execution_count": 25,
      "outputs": [
        {
          "output_type": "stream",
          "name": "stdout",
          "text": [
            "Die Modellgröße beträgt 2.22 Kilobyte.\n"
          ]
        }
      ]
    },
    {
      "cell_type": "code",
      "source": [
        "apfellist = [markov_apfel() for _ in range(20)]\n",
        "for apfel in apfellist:\n",
        "    if apfel in data:\n",
        "        print(f\"\\x1b[31m{apfel}\\x1b[31m\")\n",
        "    else:\n",
        "        print(f\"\\033[94m{apfel}\\033[94m\")\n"
      ],
      "metadata": {
        "id": "VE2qnwGWhIz-"
      },
      "execution_count": null,
      "outputs": []
    }
  ]
}