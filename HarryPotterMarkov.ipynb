{
  "nbformat": 4,
  "nbformat_minor": 0,
  "metadata": {
    "colab": {
      "provenance": [],
      "authorship_tag": "ABX9TyPkWFDyLgdi7cGYIL3X35Dz",
      "include_colab_link": true
    },
    "kernelspec": {
      "name": "python3",
      "display_name": "Python 3"
    },
    "language_info": {
      "name": "python"
    }
  },
  "cells": [
    {
      "cell_type": "markdown",
      "metadata": {
        "id": "view-in-github",
        "colab_type": "text"
      },
      "source": [
        "<a href=\"https://colab.research.google.com/github/ollihansen90/Mathe-SH_Markov/blob/main/HarryPotterMarkov.ipynb\" target=\"_parent\"><img src=\"https://colab.research.google.com/assets/colab-badge.svg\" alt=\"Open In Colab\"/></a>"
      ]
    },
    {
      "cell_type": "code",
      "source": [
        "!wget -nc -q https://github.com/ollihansen90/Mathe-SH_Markov/raw/main/lookup.json\n",
        "!wget -nc -q https://github.com/ollihansen90/Mathe-SH_Markov/raw/main/model.json\n",
        "!wget -nc -q https://github.com/ollihansen90/Mathe-SH_Markov/raw/main/utils.py\n",
        "import json, sys\n",
        "from utils import Markov, get_sentence\n",
        "\n",
        "with open(\"lookup.json\", \"r\") as file:\n",
        "    lookup = json.load(file)\n",
        "\n",
        "with open(\"model.json\", \"r\") as file:\n",
        "    fanfic_markov = Markov(json.load(file))\n",
        "\n",
        "print(\"Markov-Model wurde geladen.\")\n",
        "print(f\"Die Modellgröße beträgt etwa {round(sys.getsizeof(fanfic_markov.dictionary)/2**20, ndigits=2)} Megabyte.\")"
      ],
      "metadata": {
        "id": "9PVqvydnfSNR"
      },
      "execution_count": null,
      "outputs": []
    },
    {
      "cell_type": "code",
      "execution_count": null,
      "metadata": {
        "id": "rM-9mlxAdPYF"
      },
      "outputs": [],
      "source": [
        "for i in range(10):\n",
        "    outlist = fanfic_markov.generate()\n",
        "    print(get_sentence(outlist, lookup))\n"
      ]
    }
  ]
}