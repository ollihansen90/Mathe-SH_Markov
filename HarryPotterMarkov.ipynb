{
  "nbformat": 4,
  "nbformat_minor": 0,
  "metadata": {
    "colab": {
      "provenance": [],
      "authorship_tag": "ABX9TyMaIUKBEymPa0sgQlQZAtYw",
      "include_colab_link": true
    },
    "kernelspec": {
      "name": "python3",
      "display_name": "Python 3"
    },
    "language_info": {
      "name": "python"
    }
  },
  "cells": [
    {
      "cell_type": "markdown",
      "metadata": {
        "id": "view-in-github",
        "colab_type": "text"
      },
      "source": [
        "<a href=\"https://colab.research.google.com/github/ollihansen90/Mathe-SH_Markov/blob/main/HarryPotterMarkov.ipynb\" target=\"_parent\"><img src=\"https://colab.research.google.com/assets/colab-badge.svg\" alt=\"Open In Colab\"/></a>"
      ]
    },
    {
      "cell_type": "code",
      "execution_count": null,
      "metadata": {
        "id": "rM-9mlxAdPYF"
      },
      "outputs": [],
      "source": [
        "import random\n",
        "import json\n",
        "from tqdm.auto import tqdm\n",
        "\n",
        "class Markov():\n",
        "    def __init__(self, dictionary):\n",
        "        self.dictionary = dictionary\n",
        "        #print(self.dictionary)\n",
        "        self.back = len(dictionary.keys()[0])\n",
        "\n",
        "    def generate(self, start=\"0\"):\n",
        "        key = self.back*\"<,\"[:-1]\n",
        "        name = self.back*[\"<\"]\n",
        "        while key!=\">\":\n",
        "            next_keys = self.dictionary[generate_key(name[-self.back:])]\n",
        "            valliste = []\n",
        "            keyliste = []\n",
        "            for dictkey in next_keys.keys():\n",
        "                valliste.append(next_keys[dictkey])\n",
        "                keyliste.append(dictkey)\n",
        "            summe = 0\n",
        "            cumsum = []\n",
        "            for eintrag in valliste:\n",
        "                summe += eintrag\n",
        "                cumsum.append(summe)\n",
        "            n = random.randint(0,summe)#int(random.random()*summe)\n",
        "            i = 0\n",
        "            while n>cumsum[i]:\n",
        "                i += 1\n",
        "            key = keyliste[i]\n",
        "            #print(key)\n",
        "            name += [key]\n",
        "            #print(name)\n",
        "        #print(name)\n",
        "        return name[self.back:-1]\n",
        "\n",
        "\n",
        "def get_sentence(liste, lookup):\n",
        "    satz = \"\"\n",
        "    for wort in liste:\n",
        "        satz += lookup[\"i2w\"][wort] + \" \"\n",
        "    return satz\n",
        "\n",
        "with open(\"data_HP/lookup.json\", \"r\") as file:\n",
        "    lookup = json.load(file)\n",
        "\n",
        "with open(\"model.json\", \"r\") as file:\n",
        "    fanfic_markov = Markov(json.load(file))\n",
        "\n",
        "for i in range(10):\n",
        "    outlist = fanfic_markov.generate()\n",
        "    print(get_sentence(outlist, lookup))\n"
      ]
    }
  ]
}